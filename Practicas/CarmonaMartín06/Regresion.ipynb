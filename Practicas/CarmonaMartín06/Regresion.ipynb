{
 "cells": [
  {
   "cell_type": "code",
   "execution_count": 1,
   "metadata": {},
   "outputs": [],
   "source": [
    "import numpy as np\n",
    "import importlib\n",
    "%matplotlib inline\n",
    "import matplotlib.pyplot as plt"
   ]
  },
  {
   "cell_type": "markdown",
   "metadata": {},
   "source": [
    "\n",
    "# Regresión y clasificación\n",
    "\\begin{align}\n",
    "Inteligencia Artificial\\\\\n",
    "18\\ de\\ abril\\ de\\ 2018\n",
    "\\end{align}\n",
    "\n",
    "Utilizando cuadernos de Python, realizar los ejercicios siguientes:\n",
    "## 1. REGRESIÓN\n",
    "### 1. Dados los datos siguientes, elegir las características necesarias para ajustar una curva de regresión:\n",
    "\\begin{align}\n",
    "   \\begin{bmatrix}\n",
    "   X & Y\\\\\n",
    "   0.1 & -0.01\\\\\n",
    "   1.05 & 0.978\\\\\n",
    "   2.01 & 1.4\\\\\n",
    "   3.003 & 1.74\\\\\n",
    "   4.11 & 2.1\\\\\n",
    "   4.99 & 2.3\\\\\n",
    "   5.9 & 2.5\n",
    "   \\end{bmatrix}\n",
    "\\end{align}"
   ]
  },
  {
   "cell_type": "markdown",
   "metadata": {},
   "source": [
    "### a) Graficar los datos. "
   ]
  },
  {
   "cell_type": "code",
   "execution_count": 3,
   "metadata": {},
   "outputs": [
    {
     "data": {
      "image/png": "[encoded data removed]",
      "text/plain": [
       "<Figure size 432x288 with 1 Axes>"
      ]
     },
     "metadata": {},
     "output_type": "display_data"
    }
   ],
   "source": [
    "x = np.array([[0.1], [1.05], [2.01], [3.003], [4.11], [4.99], [5.89]])\n",
    "y = np.array([[-0.01], [0.978], [1.4], [1.74], [2.1], [2.3], [2.5]])\n",
    "for i in range(0, len(x)):\n",
    "    plt.plot(x[i], y[i], 'ko')"
   ]
  },
  {
   "cell_type": "markdown",
   "metadata": {},
   "source": [
    "### ¿Que tipo de curva y' = θf(x) tiene un comportamiento semejante a la grafica obtenida? (e.g. exponencial, coseno, logaritmo, etc.)\n",
    "La función raíz cuadrada"
   ]
  },
  {
   "cell_type": "markdown",
   "metadata": {},
   "source": [
    "### b) Generar nuevas características $x' = f(x)$ usando la $f(x)$ identificada anteriormente. Calcular los valores correspondientes para las nuevas $x'$."
   ]
  },
  {
   "cell_type": "code",
   "execution_count": 4,
   "metadata": {},
   "outputs": [
    {
     "name": "stdout",
     "output_type": "stream",
     "text": [
      "[[0.31622777]\n",
      " [1.02469508]\n",
      " [1.41774469]\n",
      " [1.73291662]\n",
      " [2.02731349]\n",
      " [2.23383079]\n",
      " [2.42693222]]\n"
     ]
    }
   ],
   "source": [
    "# vector x con sus valores afectados por la función raíz cuadrada\n",
    "xp = np.sqrt(x)\n",
    "print(xp)"
   ]
  },
  {
   "cell_type": "markdown",
   "metadata": {},
   "source": [
    "### c) Graficar los datos $(x', y)$ con las características $x'$ elegidas."
   ]
  },
  {
   "cell_type": "code",
   "execution_count": 5,
   "metadata": {},
   "outputs": [
    {
     "data": {
      "image/png": "[encoded data removed]",
      "text/plain": [
       "<Figure size 432x288 with 1 Axes>"
      ]
     },
     "metadata": {},
     "output_type": "display_data"
    }
   ],
   "source": [
    "for i in range(0, len(x)):\n",
    "    plt.plot(x[i], y[i], 'ko')\n",
    "for i in range(0, len(x)):\n",
    "    plt.plot(xp[i], y[i], 'bo')"
   ]
  },
  {
   "cell_type": "markdown",
   "metadata": {},
   "source": [
    "### d) Ajustar el plano/recta en el espacio transformado $y$ vs $x'$ utilizando la ecuacion normal $θ = (X^T X)^{−1} X^T Y $"
   ]
  },
  {
   "cell_type": "code",
   "execution_count": 6,
   "metadata": {},
   "outputs": [
    {
     "name": "stdout",
     "output_type": "stream",
     "text": [
      "El valor de theta queda: \n",
      "[[1.01458926]]\n"
     ]
    }
   ],
   "source": [
    "xpt = np.transpose(xp)\n",
    "\n",
    "xtx = np.dot(xpt, xp)\n",
    "\n",
    "xtxInv = np.linalg.inv(xtx)\n",
    "\n",
    "xty = np.dot(xpt, y)\n",
    "\n",
    "theta = np.dot(xtxInv, xty)\n",
    "print(\"El valor de theta queda: \")\n",
    "print(theta)"
   ]
  },
  {
   "cell_type": "markdown",
   "metadata": {},
   "source": [
    "### e) Calcular la expresion correspondiente en el espacio original (sustituir las $x'$ por la funcion que representan $f(x)$)."
   ]
  },
  {
   "cell_type": "code",
   "execution_count": 7,
   "metadata": {},
   "outputs": [
    {
     "name": "stdout",
     "output_type": "stream",
     "text": [
      "[[-0.01 ]\n",
      " [ 0.978]\n",
      " [ 1.4  ]\n",
      " [ 1.74 ]\n",
      " [ 2.1  ]\n",
      " [ 2.3  ]\n",
      " [ 2.5  ]]\n",
      "[[0.3208413 ]\n",
      " [1.03964462]\n",
      " [1.43842854]\n",
      " [1.75819859]\n",
      " [2.0568905 ]\n",
      " [2.26642074]\n",
      " [2.46233937]]\n"
     ]
    }
   ],
   "source": [
    "yp = xp*theta\n",
    "print(y)\n",
    "print(yp)"
   ]
  },
  {
   "cell_type": "markdown",
   "metadata": {},
   "source": [
    "### f) Graficar la funcion ajustada en el espacio original $y$ vs $x$.\n",
    "Se grafica la original en negro y la otra en azúl."
   ]
  },
  {
   "cell_type": "code",
   "execution_count": 9,
   "metadata": {},
   "outputs": [
    {
     "data": {
      "image/png": "[encoded data removed]",
      "text/plain": [
       "<Figure size 432x288 with 1 Axes>"
      ]
     },
     "metadata": {},
     "output_type": "display_data"
    }
   ],
   "source": [
    "for i in range(0, len(x)):\n",
    "    plt.plot(x[i], y[i], 'ko')\n",
    "for i in range(0, len(x)):\n",
    "    plt.plot(x[i], yp[i], 'bo')"
   ]
  },
  {
   "cell_type": "markdown",
   "metadata": {},
   "source": [
    "## 2. CLASIFICACION\n",
    "### 2. Entrene un clasificador utilizando descenso por el gradiente para detectar la frontera entre los datos siguientes.\n",
    "\n"
   ]
  },
  {
   "cell_type": "markdown",
   "metadata": {},
   "source": [
    "\\begin{align}\n",
    "   \\begin{bmatrix}\n",
    "   X & Y &  clasificación\\\\\n",
    "   -0.6861007046 & -2.7317977268 & FALSO\\\\  \n",
    "    0.1845728382 &  0.451296404  & VERDADERO\\\\ \n",
    "   -2.3158346172 & -0.6509207096 & FALSO\\\\  \n",
    "   -1.0254515503 & -0.0809364635 & VERDADERO\\\\ \n",
    "    0.4311453719 &  0.8026880194 & VERDADERO\\\\  \n",
    "   -3.7719061095 &  0.814367149  & FALSO\\\\ \n",
    "    0.8427785188 & -1.0716033783 & VERDADERO\\\\ \n",
    "    2.2864584569 & -2.9176860601 & FALSO\\\\ \n",
    "   -0.2791914176 & -0.8346607406 & VERDADERO\\\\ \n",
    "   -0.9005654622 & -2.2787579969 & FALSO\\\\ \n",
    "    0.1421184987 & -1.213108765  & VERDADERO\\\\ \n",
    "    3.1509795878 & -3.7415509261 & FALSO\\\\ \n",
    "    0.6174679771 & -0.5790232979 & VERDADERO\\\\\n",
    "    2.0068530366 & -1.4894149248 & FALSO\\\\\n",
    "    3.5943855252 & -0.8032932784 & FALSO\\\\\n",
    "   \\end{bmatrix}\n",
    "\\end{align}\n"
   ]
  },
  {
   "cell_type": "markdown",
   "metadata": {},
   "source": [
    "### a) Graficar los datos.\n",
    "Graficamos en circulos verdes los valores verdaderos y en '+' rojos para los falsos"
   ]
  },
  {
   "cell_type": "code",
   "execution_count": 33,
   "metadata": {},
   "outputs": [
    {
     "data": {
      "image/png": "[encoded data removed]",
      "text/plain": [
       "<Figure size 288x216 with 1 Axes>"
      ]
     },
     "metadata": {},
     "output_type": "display_data"
    }
   ],
   "source": [
    "from IPython.core.pylabtools import figsize\n",
    "figsize(4, 3)\n",
    "colores = [\"#348ABD\", \"#A60628\",\"#06A628\"]\n",
    "from mpl_toolkits.mplot3d import Axes3D\n",
    "from matplotlib.patches import Ellipse\n",
    "import numpy.random as rnd\n",
    "\n",
    "XOrig = np.array([[-0.6861007046, -2.7317977268],\n",
    "                  [0.1845728382, 0.451296404],\n",
    "                  [-2.3158346172, -0.6509207096],\n",
    "                  [-1.0254515503, -0.0809364635],\n",
    "                  [0.4311453719, 0.8026880194],\n",
    "                  [-3.7719061095, 0.814367149],\n",
    "                  [0.8427785188, -1.0716033783],\n",
    "                  [2.2864584569, -2.9176860601],\n",
    "                  [-0.2791914176, -0.8346607406],\n",
    "                  [-0.9005654622, -2.2787579969],\n",
    "                  [0.1421184987, -1.213108765],\n",
    "                  [3.1509795878, -3.7415509261],\n",
    "                  [0.6174679771, -0.5790232979],\n",
    "                  [2.0068530366, -1.4894149248],\n",
    "                  [3.5943855252, -0.8032932784]])\n",
    "Y = np.array([[0],[1],[0],[1],[1],[0],[1],[0],[1],[0],[1],[0],[1],[0],[0]])\n",
    "        \n",
    "def grafica_datos(X, Y, XVars=(0,1)):\n",
    "    \"\"\"\n",
    "    Grafica en el plano X_{XVars[0]}, X_{Vars[1]} usando colores para indicar Y.\n",
    "    \"\"\"\n",
    "    fig = plt.gcf()\n",
    "    c = np.vectorize(lambda b: colores[b])(Y.ravel())\n",
    "    \n",
    "    plt.title(\"Datos de entrenamiento\")\n",
    "    plt.xlabel(\"$x_\" + str(XVars[0] + 1) + \"$\")\n",
    "    plt.ylabel(\"$x_\" + str(XVars[1] + 1) + \"$\")\n",
    "    plt.axhline(y = 0)\n",
    "    plt.axvline(x = 0)\n",
    "    plt.scatter(X[:,XVars[0]], X[:,XVars[1]], color=c)\n",
    "    \n",
    "    e = Ellipse(xy=(0,0), width=rnd.rand(), height=rnd.rand(), angle=rnd.rand()*360, color=colores[2])\n",
    "    fig.gca().add_artist(e)\n",
    "grafica_datos(XOrig, Y)"
   ]
  },
  {
   "cell_type": "markdown",
   "metadata": {},
   "source": [
    "### b) Listar características derivadas correspondientes a todos términos de un polinomio de segundo grado y calcular sus valores."
   ]
  },
  {
   "cell_type": "markdown",
   "metadata": {},
   "source": [
    "Tomamos los siguientes que son los términos de un polinomio de segundo grado\n",
    "\\begin{align}\n",
    "    x_1' &= x_1   &   x_2' &= x_2   &   x_3' &= x_1 x_2   &   x_4' &= x_1^2   &   x_5' &= x_2^2\n",
    "\\end{align}\n",
    "\n",
    "de forma que la hipótesis se ve como:\n",
    "\n",
    "\\begin{align}\n",
    "    z(x_0,...,x_n) &= \\theta_0 x_0 + \\theta_1 x_1' + ... + \\theta_{n} x_n' \\\\\n",
    "    h_\\Theta(x_0,...,x_n) &= sigmoide(z)\n",
    "\\end{align}\n",
    "\n",
    "en forma vectorizada:\n",
    "\\begin{align}\n",
    " z(\\Theta) &= \\Theta^T X \\\\\n",
    " h_\\Theta(X) &= sigmoide(z)\n",
    "\\end{align}"
   ]
  },
  {
   "cell_type": "code",
   "execution_count": 34,
   "metadata": {},
   "outputs": [
    {
     "name": "stdout",
     "output_type": "stream",
     "text": [
      "[[ 1.00000000e+00 -6.86100705e-01 -2.73179773e+00  1.87428835e+00\n",
      "   4.70734177e-01  7.46271882e+00]\n",
      " [ 1.00000000e+00  1.84572838e-01  4.51296404e-01  8.32970582e-02\n",
      "   3.40671326e-02  2.03668444e-01]\n",
      " [ 1.00000000e+00 -2.31583462e+00 -6.50920710e-01  1.50742471e+00\n",
      "   5.36308997e+00  4.23697770e-01]\n",
      " [ 1.00000000e+00 -1.02545155e+00 -8.09364635e-02  8.29964220e-02\n",
      "   1.05155088e+00  6.55071112e-03]\n",
      " [ 1.00000000e+00  4.31145372e-01  8.02688019e-01  3.46075225e-01\n",
      "   1.85886332e-01  6.44308056e-01]\n",
      " [ 1.00000000e+00 -3.77190611e+00  8.14367149e-01 -3.07171642e+00\n",
      "   1.42272757e+01  6.63193853e-01]\n",
      " [ 1.00000000e+00  8.42778519e-01 -1.07160338e+00 -9.03124308e-01\n",
      "   7.10275632e-01  1.14833380e+00]\n",
      " [ 1.00000000e+00  2.28645846e+00 -2.91768606e+00 -6.67116797e+00\n",
      "   5.22789228e+00  8.51289195e+00]\n",
      " [ 1.00000000e+00 -2.79191418e-01 -8.34660741e-01  2.33030115e-01\n",
      "   7.79478477e-02  6.96658552e-01]\n",
      " [ 1.00000000e+00 -9.00565462e-01 -2.27875800e+00  2.05217075e+00\n",
      "   8.11018152e-01  5.19273801e+00]\n",
      " [ 1.00000000e+00  1.42118499e-01 -1.21310877e+00 -1.72405196e-01\n",
      "   2.01976677e-02  1.47163288e+00]\n",
      " [ 1.00000000e+00  3.15097959e+00 -3.74155093e+00 -1.17895506e+01\n",
      "   9.92867236e+00  1.39992033e+01]\n",
      " [ 1.00000000e+00  6.17467977e-01 -5.79023298e-01 -3.57528344e-01\n",
      "   3.81266703e-01  3.35267980e-01]\n",
      " [ 1.00000000e+00  2.00685304e+00 -1.48941492e+00 -2.98903686e+00\n",
      "   4.02745911e+00  2.21835682e+00]\n",
      " [ 1.00000000e+00  3.59438553e+00 -8.03293278e-01 -2.88734573e+00\n",
      "   1.29196073e+01  6.45280091e-01]]\n"
     ]
    }
   ],
   "source": [
    "# Código para agregar las nuevas características a la matriz X\n",
    "XCross = np.prod(XOrig, axis=1, keepdims=True)   # x_1 x_2\n",
    "XSquare = XOrig ** 2                             # x_i^2\n",
    "\n",
    "# Juntamos las x originales, el producto de ellas y sus cuadrados\n",
    "X = np.hstack((XOrig, XCross, XSquare))\n",
    "\n",
    "# Agrega los unos correspondientes a x_0 = 1\n",
    "X = np.hstack((np.ones((len(X), 1)), X))\n",
    "print(X)"
   ]
  },
  {
   "cell_type": "markdown",
   "metadata": {},
   "source": [
    "### c) Ajustar el plano en el espacio transformado. Observe que no se pide graficarlo pues este espacio tiene demasiadas dimensiones.\n",
    "\n",
    "Para ajustar utilizamos descenso por el gradiente, con la función de error:\n",
    "\\begin{align}\n",
    "  J(\\theta) &= -\\frac{1}{m} \\sum_{i=1}^m \\left[ y \\log(h_{\\theta}(x)) + (1-y) \\log(1 - h_{\\theta}(x))\\right] \\\\\n",
    "  h_{\\Theta}(X) &= \\frac{1}{1 + e^{- \\Theta^T X}}\n",
    "\\end{align}\n",
    "\n",
    "cuya derivada es:\n",
    "\\begin{align}\n",
    "    \\frac{\\partial J}{\\partial \\theta_i} &= \\frac{1}{m} \\sum_{i=1}^m  \\left[ h_{\\Theta}(X) - y \\right] x_i\n",
    "\\end{align}\n",
    "\n",
    "Inicializamos theta..."
   ]
  },
  {
   "cell_type": "code",
   "execution_count": 35,
   "metadata": {},
   "outputs": [
    {
     "name": "stdout",
     "output_type": "stream",
     "text": [
      "[[1.49434979]\n",
      " [0.42785935]\n",
      " [1.75400755]\n",
      " [1.98991699]\n",
      " [0.2515133 ]\n",
      " [1.94201538]]\n"
     ]
    }
   ],
   "source": [
    "def sigmoide(M):\n",
    "    \"\"\" Evalúa la función sigmoide componente a componente\n",
    "    y devuelve una matriz con los resultados.\n",
    "    \"\"\"\n",
    "    return 1 / (1 + np.exp(-M))\n",
    "\n",
    "# Propuesta inicial para los parámetros del plano.\n",
    "# A propósito queremos que no comience con los datos correctos.\n",
    "# Se elige una propuesta al azar.\n",
    "Theta = np.random.random((len(X[0]), 1)) * 4\n",
    "print(Theta)"
   ]
  },
  {
   "cell_type": "code",
   "execution_count": 36,
   "metadata": {},
   "outputs": [
    {
     "data": {
      "image/png": "[encoded data removed]",
      "text/plain": [
       "<Figure size 288x216 with 1 Axes>"
      ]
     },
     "metadata": {},
     "output_type": "display_data"
    }
   ],
   "source": [
    "def descenso(iteraciones):\n",
    "    \"\"\"\n",
    "    Realiza descenso por el gradiente sobre los datos en X, con respuestas esperadas Y.\n",
    "    \"\"\"\n",
    "    figsize(4, 3)\n",
    "    global Theta\n",
    "    num_iter = iteraciones\n",
    "    errores = np.zeros(num_iter)\n",
    "    m = len(X)\n",
    "    for i in range(0, num_iter):\n",
    "        #print(\"X\", X)\n",
    "        #print(\"Theta\", Theta)\n",
    "        #print(np.dot(X, Theta))\n",
    "        H = sigmoide(np.dot(X, Theta))\n",
    "        errores[i] = - (np.sum(Y * np.log(H) + (1 - Y) * np.log(1 - H))) / m\n",
    "        #print(\"H\", H)\n",
    "        #print(\"Y\", Y)\n",
    "        #print(\"H - Y\", H - Y)\n",
    "        grad = np.dot(X.T, H - Y) / 6\n",
    "        #print(grad)\n",
    "        Theta = Theta - 0.15 * grad\n",
    "    plt.scatter(np.arange(num_iter), errores)\n",
    "descenso(150)"
   ]
  },
  {
   "cell_type": "markdown",
   "metadata": {},
   "source": [
    "### d) Calcular la expresion correspondiente en el espacio original.\n",
    "### e) Graficar la curva ajustada en el espacio original."
   ]
  },
  {
   "cell_type": "code",
   "execution_count": 38,
   "metadata": {},
   "outputs": [
    {
     "name": "stdout",
     "output_type": "stream",
     "text": [
      "Parámetros iniciales. Theta =  [ 4.37652132  1.03583109  1.13413896  0.40584846 -1.16156365 -0.71118007]\n"
     ]
    },
    {
     "data": {
      "image/png": "[encoded data removed]",
      "text/plain": [
       "<Figure size 288x216 with 1 Axes>"
      ]
     },
     "metadata": {},
     "output_type": "display_data"
    },
    {
     "data": {
      "image/png": "[encoded data removed]",
      "text/plain": [
       "<Figure size 288x216 with 1 Axes>"
      ]
     },
     "metadata": {},
     "output_type": "display_data"
    },
    {
     "data": {
      "image/png": "[encoded data removed]",
      "text/plain": [
       "<Figure size 288x216 with 1 Axes>"
      ]
     },
     "metadata": {},
     "output_type": "display_data"
    },
    {
     "data": {
      "image/png": "[encoded data removed]",
      "text/plain": [
       "<Figure size 288x216 with 1 Axes>"
      ]
     },
     "execution_count": 38,
     "metadata": {},
     "output_type": "execute_result"
    }
   ],
   "source": [
    "from sympy import var\n",
    "from sympy.plotting import plot_implicit\n",
    "from IPython import display\n",
    "\n",
    "\n",
    "def plot_transformed(X, Y, Theta):\n",
    "    Theta = Theta.ravel()\n",
    "    print(\"Parámetros iniciales. Theta = \", Theta)\n",
    "    var('x y')\n",
    "    p = plot_implicit(Theta[0] + Theta[1] * x + Theta[2] * y + Theta[3] *x*y + Theta[4] * x**2 + Theta[5] * y**2, x, y,\n",
    "                      title = \"Frontera\", show=True)\n",
    "    p.show()\n",
    "    backend = p._backend\n",
    "    axes = backend.fig.get_axes()[0]\n",
    "    c = np.vectorize(lambda b: colores[b])(Y.ravel())\n",
    "    axes.scatter(X[:,0], X[:,1], color=c)\n",
    "    return backend.fig\n",
    "\n",
    "grafica_datos(XOrig, Y)\n",
    "t =plt.title(\"Espacio original\")\n",
    "plot_transformed(XOrig, Y, Theta)"
   ]
  },
  {
   "cell_type": "code",
   "execution_count": null,
   "metadata": {},
   "outputs": [],
   "source": []
  }
 ],
 "metadata": {
  "kernelspec": {
   "display_name": "Python 3",
   "language": "python",
   "name": "python3"
  },
  "language_info": {
   "codemirror_mode": {
    "name": "ipython",
    "version": 3
   },
   "file_extension": ".py",
   "mimetype": "text/x-python",
   "name": "python",
   "nbconvert_exporter": "python",
   "pygments_lexer": "ipython3",
   "version": "3.6.4"
  }
 },
 "nbformat": 4,
 "nbformat_minor": 2
}
